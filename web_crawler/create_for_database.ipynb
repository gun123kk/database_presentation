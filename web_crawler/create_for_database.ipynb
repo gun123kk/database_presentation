{
 "cells": [
  {
   "cell_type": "code",
   "execution_count": null,
   "metadata": {},
   "outputs": [],
   "source": [
    "#AREA_NUM:100+01~100+12 (ORG:AREA_OO~AREA_11 )\n",
    " \n",
    "#RST_NUM:110+001~110+612 (ORG:RSN_000000~RSN_000611)\n",
    "\n",
    "#COMTR_NUM:120+0001~120+16450 (ORG:CMT_00000~ORG_CMT_01649)\n",
    "\n",
    "#TYPE_NUM:130+01~130+29 (ORG:TY000~TY028)"
   ]
  },
  {
   "cell_type": "code",
   "execution_count": null,
   "metadata": {},
   "outputs": [],
   "source": [
    "import pandas as pd\n",
    "import pandas_profiling\n",
    "import random"
   ]
  },
  {
   "cell_type": "code",
   "execution_count": null,
   "metadata": {},
   "outputs": [],
   "source": [
    "#deal with area.csv\n",
    "area_data = pd.read_csv(\"data_done/area.csv\")\n",
    "area_data_temp = area_data.copy()\n",
    "area_num = area_data_temp['AREA_NUM']"
   ]
  },
  {
   "cell_type": "code",
   "execution_count": null,
   "metadata": {},
   "outputs": [],
   "source": [
    "#area_num"
   ]
  },
  {
   "cell_type": "code",
   "execution_count": null,
   "metadata": {},
   "outputs": [],
   "source": [
    "area_num_m = []\n",
    "temp = ''\n",
    "for i in range(len(area_num)):\n",
    "    temp = area_num[i]\n",
    "    temp = int(temp[5:7]) + 1\n",
    "    if temp > 9:\n",
    "        area_num_m.append(str(10) + str(temp))\n",
    "    else:\n",
    "        area_num_m.append(str(100) + str(temp))\n",
    "#area_num_m "
   ]
  },
  {
   "cell_type": "code",
   "execution_count": null,
   "metadata": {},
   "outputs": [],
   "source": [
    "area_data.drop(['AREA_NUM'],axis=1,inplace=True)\n",
    "#area_data"
   ]
  },
  {
   "cell_type": "code",
   "execution_count": null,
   "metadata": {},
   "outputs": [],
   "source": [
    "area_data.insert(0, 'AREA_NUM',  area_num_m)\n",
    "area_data.rename(columns={'AREM_RST_NUM':'AREA_RST_NUM'}, inplace=True)\n",
    "#area_data"
   ]
  },
  {
   "cell_type": "code",
   "execution_count": null,
   "metadata": {},
   "outputs": [],
   "source": [
    "area_data.to_csv(\"../web/csv_for_db/area.csv\", index=False)"
   ]
  },
  {
   "cell_type": "code",
   "execution_count": null,
   "metadata": {},
   "outputs": [],
   "source": [
    "#area_data"
   ]
  },
  {
   "cell_type": "code",
   "execution_count": null,
   "metadata": {},
   "outputs": [],
   "source": [
    "#deal with restaurant.csv\n",
    "rst_data = pd.read_csv(\"data_done/restaurant.csv\")\n",
    "rst_data_temp = rst_data.copy()\n",
    "rst_num = rst_data_temp['RST_NUM']\n",
    "#rst_num"
   ]
  },
  {
   "cell_type": "code",
   "execution_count": null,
   "metadata": {},
   "outputs": [],
   "source": [
    "rst_num_m = []\n",
    "temp = ''\n",
    "for i in range(len(rst_num)):\n",
    "    temp = rst_num[i]\n",
    "    temp = int(temp[4:10]) + 1\n",
    "    if temp < 10:\n",
    "        rst_num_m.append(str(11000) + str(temp))\n",
    "    elif temp >= 10 and temp < 100:\n",
    "        rst_num_m.append(str(1100) + str(temp))\n",
    "    else:\n",
    "        rst_num_m.append(str(110) + str(temp))\n",
    "#rst_num_m "
   ]
  },
  {
   "cell_type": "code",
   "execution_count": null,
   "metadata": {},
   "outputs": [],
   "source": [
    "#replace area in restaruant\n",
    "rst_area_m = []\n",
    "rst_data_temp = rst_data.copy()\n",
    "rst_area_num = rst_data_temp['area']\n",
    "for i in range(len(rst_area_num)):\n",
    "    temp = rst_area_num[i]\n",
    "    temp = int(temp[5:7]) + 1\n",
    "    if temp > 9:\n",
    "        rst_area_m.append(str(10) + str(temp))\n",
    "    else:\n",
    "        rst_area_m.append(str(100) + str(temp))\n",
    "#rst_area_m     "
   ]
  },
  {
   "cell_type": "code",
   "execution_count": null,
   "metadata": {},
   "outputs": [],
   "source": [
    "rst_data.drop(['RST_NUM','area'],axis=1,inplace=True)\n",
    "#rst_data"
   ]
  },
  {
   "cell_type": "code",
   "execution_count": null,
   "metadata": {},
   "outputs": [],
   "source": [
    "rst_data.insert(0, 'RST_NUM',  rst_num_m)\n",
    "rst_data.insert(4, 'AREA_NUM',  rst_area_m)\n",
    "#rst_data"
   ]
  },
  {
   "cell_type": "code",
   "execution_count": null,
   "metadata": {},
   "outputs": [],
   "source": [
    "rst_data.to_csv(\"../web/csv_for_db/restaurnt.csv\", index=False)"
   ]
  },
  {
   "cell_type": "code",
   "execution_count": null,
   "metadata": {},
   "outputs": [],
   "source": [
    "#deal with commenter_line.csv\n",
    "commenter_data = pd.read_csv(\"data_done/commenter.csv\")\n",
    "commenter_data_temp = commenter_data.copy()\n",
    "commenter_rst_num = commenter_data_temp['COMTR_NUM']\n",
    "print(len(commenter_rst_num)) "
   ]
  },
  {
   "cell_type": "code",
   "execution_count": null,
   "metadata": {},
   "outputs": [],
   "source": [
    "commenter_rst_num_m = []\n",
    "temp = ''\n",
    "for i in range(len(commenter_rst_num)):\n",
    "    temp = commenter_rst_num[i]\n",
    "    temp = int(temp[4:9]) + 1\n",
    "    if temp < 10:\n",
    "        commenter_rst_num_m.append(str(120000) + str(temp))\n",
    "    elif temp >= 10 and temp < 100:\n",
    "        commenter_rst_num_m.append(str(12000) + str(temp))\n",
    "    elif temp >= 100 and temp < 1000:\n",
    "        commenter_rst_num_m.append(str(1200) + str(temp))\n",
    "    else:\n",
    "        commenter_rst_num_m.append(str(120) + str(temp))\n",
    "print(len(commenter_rst_num_m))"
   ]
  },
  {
   "cell_type": "code",
   "execution_count": null,
   "metadata": {},
   "outputs": [],
   "source": [
    "commenter_data.drop(['COMTR_NUM'],axis=1,inplace=True)\n",
    "#commenter_data"
   ]
  },
  {
   "cell_type": "code",
   "execution_count": null,
   "metadata": {},
   "outputs": [],
   "source": [
    "commenter_data.insert(0, 'COMTR_NUM',  commenter_rst_num_m)\n",
    "#commenter_data"
   ]
  },
  {
   "cell_type": "code",
   "execution_count": null,
   "metadata": {},
   "outputs": [],
   "source": [
    "commenter_data.to_csv(\"../web/csv_for_db/commenter.csv\", index=False)"
   ]
  },
  {
   "cell_type": "code",
   "execution_count": null,
   "metadata": {},
   "outputs": [],
   "source": [
    "#deal with comment_line.csv\n",
    "comment_data = pd.read_csv(\"data_done/comment_line.csv\")\n",
    "comment_data_temp = comment_data.copy()\n",
    "comment_rst_num = comment_data_temp['RST_NUM']\n",
    "print(len(comment_data))"
   ]
  },
  {
   "cell_type": "code",
   "execution_count": null,
   "metadata": {},
   "outputs": [],
   "source": [
    "#replace RST_NUM\n",
    "comment_rst_num_m = []\n",
    "temp = ''\n",
    "for i in range(len(comment_rst_num)):\n",
    "    temp = comment_rst_num[i]\n",
    "    temp = int(temp[4:10]) + 1\n",
    "    if temp < 10:\n",
    "        comment_rst_num_m.append(str(11000) + str(temp))\n",
    "    elif temp >= 10 and temp < 100:\n",
    "        comment_rst_num_m.append(str(1100) + str(temp))\n",
    "    else:\n",
    "        comment_rst_num_m.append(str(110) + str(temp))\n",
    "print(len(comment_rst_num_m))"
   ]
  },
  {
   "cell_type": "code",
   "execution_count": null,
   "metadata": {},
   "outputs": [],
   "source": [
    "#replace COMTR_NUM\n",
    "commenter_num_m = []\n",
    "commenter_num = comment_data_temp['COMTR_NUM']\n",
    "for i in range(len(commenter_num)):\n",
    "    temp = commenter_num[i]\n",
    "    temp = int(temp[4:9]) + 1\n",
    "    if temp < 10:\n",
    "        commenter_num_m.append(str(120000) + str(temp))\n",
    "    elif temp >= 10 and temp < 100:\n",
    "        commenter_num_m.append(str(12000) + str(temp))\n",
    "    elif temp >= 100 and temp < 1000:\n",
    "        commenter_num_m.append(str(1200) + str(temp))\n",
    "    else:\n",
    "        commenter_num_m.append(str(120) + str(temp))\n",
    "print(len(commenter_num_m))"
   ]
  },
  {
   "cell_type": "code",
   "execution_count": null,
   "metadata": {},
   "outputs": [],
   "source": [
    "comment_data.drop(['RST_NUM'],axis=1,inplace=True)\n",
    "comment_data.drop(['COMTR_NUM'],axis=1,inplace=True)\n",
    "print(len(comment_data))"
   ]
  },
  {
   "cell_type": "code",
   "execution_count": null,
   "metadata": {},
   "outputs": [],
   "source": [
    "comment_data.insert(0, 'RST_NUM',  comment_rst_num_m)\n",
    "comment_data.insert(5, 'COMTR_NUM',  commenter_num_m)\n",
    "#comment_data"
   ]
  },
  {
   "cell_type": "code",
   "execution_count": null,
   "metadata": {},
   "outputs": [],
   "source": [
    "comment_data.to_csv(\"../web/csv_for_db/comment_line.csv\", index=False)"
   ]
  },
  {
   "cell_type": "code",
   "execution_count": null,
   "metadata": {},
   "outputs": [],
   "source": [
    "#deal with type.csv\n",
    "type_data = pd.read_csv(\"data_done/type.csv\")\n",
    "type_data_temp = type_data.copy()\n",
    "type_num = type_data_temp['TYPE_NUM']"
   ]
  },
  {
   "cell_type": "code",
   "execution_count": null,
   "metadata": {},
   "outputs": [],
   "source": [
    "#replace TYPE_NUM\n",
    "#TYPE_NUM:130+01~130+29 (ORG:TY000~TY028)\n",
    "type_num_m = []\n",
    "temp = ''\n",
    "for i in range(len(type_num)):\n",
    "    temp = type_num[i]\n",
    "    temp = int(temp[3:6]) + 1\n",
    "    if temp < 10:\n",
    "        type_num_m.append(str(1300) + str(temp))\n",
    "    elif temp >= 10:\n",
    "        type_num_m.append(str(130) + str(temp))\n",
    "#type_num_m"
   ]
  },
  {
   "cell_type": "code",
   "execution_count": null,
   "metadata": {},
   "outputs": [],
   "source": [
    "type_data.drop(['TYPE_NUM'],axis=1,inplace=True)"
   ]
  },
  {
   "cell_type": "code",
   "execution_count": null,
   "metadata": {},
   "outputs": [],
   "source": [
    "type_data.insert(0, 'TYPE_NUM',  type_num_m)"
   ]
  },
  {
   "cell_type": "code",
   "execution_count": null,
   "metadata": {},
   "outputs": [],
   "source": [
    "type_data.to_csv(\"../web/csv_for_db/type.csv\", index=False)"
   ]
  },
  {
   "cell_type": "code",
   "execution_count": null,
   "metadata": {},
   "outputs": [],
   "source": [
    "#deal with offers.csv\n",
    "offers_data = pd.read_csv(\"data_done/offers.csv\")\n",
    "offers_data_temp = offers_data.copy()\n",
    "offers_rst_num = offers_data_temp['RST_NUM']"
   ]
  },
  {
   "cell_type": "code",
   "execution_count": null,
   "metadata": {},
   "outputs": [],
   "source": [
    "#replace RST_NUM\n",
    "offers_rst_num_m = []\n",
    "temp = ''\n",
    "for i in range(len(offers_rst_num)):\n",
    "    temp = offers_rst_num[i]\n",
    "    temp = int(temp[4:10]) + 1\n",
    "    if temp < 10:\n",
    "        offers_rst_num_m.append(str(11000) + str(temp))\n",
    "    elif temp >= 10 and temp < 100:\n",
    "        offers_rst_num_m.append(str(1100) + str(temp))\n",
    "    else:\n",
    "        offers_rst_num_m.append(str(110) + str(temp))\n",
    "#offers_rst_num_m"
   ]
  },
  {
   "cell_type": "code",
   "execution_count": null,
   "metadata": {},
   "outputs": [],
   "source": [
    "offers_type_num = offers_data_temp['TYPE_NUM']"
   ]
  },
  {
   "cell_type": "code",
   "execution_count": null,
   "metadata": {},
   "outputs": [],
   "source": [
    "#replace TYPE_NUM\n",
    "#TYPE_NUM:130+01~130+29 (ORG:TY000~TY028)\n",
    "offers_type_num_m = []\n",
    "temp = ''\n",
    "for i in range(len(offers_type_num)):\n",
    "    temp = offers_type_num[i]\n",
    "    temp = int(temp[3:6]) + 1\n",
    "    if temp < 10:\n",
    "        offers_type_num_m.append(str(1300) + str(temp))\n",
    "    elif temp >= 10:\n",
    "        offers_type_num_m.append(str(130) + str(temp))\n",
    "#offers_type_num_m"
   ]
  },
  {
   "cell_type": "code",
   "execution_count": null,
   "metadata": {},
   "outputs": [],
   "source": [
    "offers_data.drop(['RST_NUM'],axis=1,inplace=True)\n",
    "offers_data.drop(['TYPE_NUM'],axis=1,inplace=True)"
   ]
  },
  {
   "cell_type": "code",
   "execution_count": null,
   "metadata": {},
   "outputs": [],
   "source": [
    "offers_data.insert(0, 'RST_NUM',  offers_rst_num_m)\n",
    "offers_data.insert(1, 'TYPE_NUM',  offers_type_num_m)"
   ]
  },
  {
   "cell_type": "code",
   "execution_count": null,
   "metadata": {},
   "outputs": [],
   "source": [
    "offers_data.to_csv(\"../web/csv_for_db/offers.csv\", index=False)"
   ]
  }
 ],
 "metadata": {
  "kernelspec": {
   "display_name": "Python 3",
   "language": "python",
   "name": "python3"
  },
  "language_info": {
   "codemirror_mode": {
    "name": "ipython",
    "version": 3
   },
   "file_extension": ".py",
   "mimetype": "text/x-python",
   "name": "python",
   "nbconvert_exporter": "python",
   "pygments_lexer": "ipython3",
   "version": "3.7.4"
  }
 },
 "nbformat": 4,
 "nbformat_minor": 4
}

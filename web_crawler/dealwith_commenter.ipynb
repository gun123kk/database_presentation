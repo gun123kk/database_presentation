{
 "cells": [
  {
   "cell_type": "code",
   "execution_count": null,
   "metadata": {},
   "outputs": [],
   "source": [
    "import pandas as pd\n",
    "import pandas_profiling\n",
    "import random"
   ]
  },
  {
   "cell_type": "code",
   "execution_count": null,
   "metadata": {},
   "outputs": [],
   "source": [
    "commnet_data_org = pd.read_csv(\"raw_data/comment.csv\")"
   ]
  },
  {
   "cell_type": "code",
   "execution_count": null,
   "metadata": {},
   "outputs": [],
   "source": [
    "account_data = commnet_data_org['account']\n",
    "#remove nan\n",
    "account_data = account_data.dropna()\n",
    "all_account_num_org = len(account_data) \n",
    "all_account_num = len(set(account_data)) \n",
    "print(all_account_num_org)\n",
    "print(all_account_num)"
   ]
  },
  {
   "cell_type": "code",
   "execution_count": null,
   "metadata": {},
   "outputs": [],
   "source": [
    "#creates COMTR_NUM, COMTR_NAME, COMTR_ACCOUNT, COMTR_PASSWD, COMTR_SEX\n",
    "name_data = commnet_data_org['name']\n",
    "#remove nan\n",
    "name_data = name_data.dropna()\n",
    "all_account_num = len(set(name_data)) \n",
    "print(all_account_num)"
   ]
  },
  {
   "cell_type": "code",
   "execution_count": null,
   "metadata": {},
   "outputs": [],
   "source": [
    "#get COMTR_NAME and no duplication\n",
    "commenter_name = []\n",
    "for i in set(name_data):\n",
    "    if i == 'nan':\n",
    "        print('k')\n",
    "    commenter_name.append(i) \n",
    "#print(commenter_name)"
   ]
  },
  {
   "cell_type": "code",
   "execution_count": null,
   "metadata": {},
   "outputs": [],
   "source": [
    "def deal_with_commenter_num(num):\n",
    "    CMT = 'CMT_'\n",
    "    length = len(str(num))\n",
    "    if length == 1:\n",
    "        CMT = CMT + '0000' + str(num)\n",
    "    elif length == 2:\n",
    "        CMT = CMT + '000' + str(num)\n",
    "    elif length == 3:\n",
    "        CMT = CMT + '00' + str(num) \n",
    "    elif length == 4:\n",
    "        CMT = CMT + '0' + str(num)  \n",
    "    elif length == 5:\n",
    "        CMT = CMT + str(num)      \n",
    "    #print(CMT)\n",
    "    return CMT"
   ]
  },
  {
   "cell_type": "code",
   "execution_count": null,
   "metadata": {},
   "outputs": [],
   "source": [
    "def deal_with_commenter_account(num):\n",
    "    CMT = 'at'\n",
    "    length = len(str(num))\n",
    "    if length == 1:\n",
    "        CMT = CMT + '000' + str(num)\n",
    "    elif length == 2:\n",
    "        CMT = CMT + '00' + str(num)\n",
    "    elif length == 3:\n",
    "        CMT = CMT + '0' + str(num) \n",
    "    elif length == 4:\n",
    "        CMT = CMT + str(num)  \n",
    "    #print(CMT)\n",
    "    return CMT"
   ]
  },
  {
   "cell_type": "code",
   "execution_count": null,
   "metadata": {},
   "outputs": [],
   "source": [
    "#creates COMTR_NUM, COMTR_ACCOUNT, COMTR_PASSWD, COMTR_SEX\n",
    "#fill commenter_name into commenter_dic \n",
    "commenter_data= []\n",
    "account = '' \n",
    "num = ''\n",
    "passwd = '1234' \n",
    "name = ''\n",
    "#0,female 1,male\n",
    "sex = 0\n",
    "for i in range(all_account_num):\n",
    "    commenter_dic = {}\n",
    "    \n",
    "    num = deal_with_commenter_num(i)\n",
    "    commenter_dic['COMTR_NUM'] = num\n",
    "    \n",
    "    commenter_dic['COMTR_NAME'] = commenter_name[i]\n",
    "    \n",
    "    account = deal_with_commenter_account(i)\n",
    "    commenter_dic['COMTR_ACCOUNT'] = account\n",
    "    \n",
    "    commenter_dic['COMTR_PASSWD'] = passwd\n",
    "    \n",
    "    sex = random.randint(0,1)\n",
    "    if sex == 0 :\n",
    "        commenter_dic['COMTR_SEX'] = '女'\n",
    "    else:\n",
    "        commenter_dic['COMTR_SEX'] = '男'\n",
    "        \n",
    "    #print(commenter_dic)\n",
    "    commenter_data.append(commenter_dic)\n",
    "        "
   ]
  },
  {
   "cell_type": "code",
   "execution_count": null,
   "metadata": {},
   "outputs": [],
   "source": [
    "for i in range(all_account_num):\n",
    "    print(commenter_data[i])"
   ]
  },
  {
   "cell_type": "code",
   "execution_count": null,
   "metadata": {},
   "outputs": [],
   "source": [
    "commenter = pd.DataFrame(commenter_data)\n",
    "commenter.to_csv(\"data_done/commenter.csv\", index=False)"
   ]
  }
 ],
 "metadata": {
  "kernelspec": {
   "display_name": "Python 3",
   "language": "python",
   "name": "python3"
  },
  "language_info": {
   "codemirror_mode": {
    "name": "ipython",
    "version": 3
   },
   "file_extension": ".py",
   "mimetype": "text/x-python",
   "name": "python",
   "nbconvert_exporter": "python",
   "pygments_lexer": "ipython3",
   "version": "3.7.4"
  }
 },
 "nbformat": 4,
 "nbformat_minor": 4
}

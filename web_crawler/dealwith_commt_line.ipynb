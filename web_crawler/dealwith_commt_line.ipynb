{
 "cells": [
  {
   "cell_type": "code",
   "execution_count": null,
   "metadata": {},
   "outputs": [],
   "source": [
    "import pandas as pd\n",
    "import pandas_profiling\n",
    "import random"
   ]
  },
  {
   "cell_type": "code",
   "execution_count": null,
   "metadata": {},
   "outputs": [],
   "source": [
    "comment_data_org = pd.read_csv(\"raw_data/comment.csv\")\n",
    "commenter_data_org = pd.read_csv(\"data_done/commenter.csv\")\n",
    "rst_data_org = pd.read_csv(\"data_done/restaurant.csv\")"
   ]
  },
  {
   "cell_type": "code",
   "execution_count": null,
   "metadata": {},
   "outputs": [],
   "source": [
    "comment_data_org\n",
    "print(len(comment_data_org))"
   ]
  },
  {
   "cell_type": "code",
   "execution_count": null,
   "metadata": {},
   "outputs": [],
   "source": [
    "commenter_data_org"
   ]
  },
  {
   "cell_type": "code",
   "execution_count": null,
   "metadata": {},
   "outputs": [],
   "source": [
    "rst_data_org"
   ]
  },
  {
   "cell_type": "code",
   "execution_count": null,
   "metadata": {},
   "outputs": [],
   "source": [
    "#find wrong format about restauratnt column\n",
    "# please remove raw_data/comment.csv by yourself \n",
    "rst_data = comment_data_org['restaurant']\n",
    "rst_data = rst_data.dropna()\n",
    "print(len(rst_data))\n",
    "\n",
    "is_find = 0\n",
    "rst_check = rst_data_org['RST_NAME']\n",
    "rst_counter = 0\n",
    "no_wrong_format = 0\n",
    "for i in rst_data:\n",
    "    is_find = 0\n",
    "    for j in range(len(rst_check)):\n",
    "        if i == rst_check[j]:\n",
    "            is_find = 1\n",
    "            break\n",
    "    if is_find == 0:\n",
    "        no_wrong_format = 1\n",
    "        print(i)\n",
    "        \n",
    "    rst_counter = rst_counter + 1\n",
    "if no_wrong_format == 0 :\n",
    "    print(\"no wrong format about restauratnt column\")"
   ]
  },
  {
   "cell_type": "code",
   "execution_count": null,
   "metadata": {},
   "outputs": [],
   "source": [
    "#replace restaurant column to RST_NUM\n",
    "rst_replace = rst_data_org['RST_NUM']\n",
    "rst_counter = 0\n",
    "rst_data_change = []\n",
    "for i in rst_data:\n",
    "    for j in range(len(rst_check)):\n",
    "        if i == rst_check[j]:\n",
    "            rst_data_change.append(rst_replace[j])\n",
    "            break\n",
    "    rst_counter = rst_counter + 1   "
   ]
  },
  {
   "cell_type": "code",
   "execution_count": null,
   "metadata": {},
   "outputs": [],
   "source": [
    "#rst_data_change\n",
    "comment_data_org.drop(['restaurant','account','level','Unnamed: 6'],axis=1,inplace=True)\n",
    "comment_data_org.insert(0, 'RST_NUM',  rst_data_change)\n",
    "comment_data_org"
   ]
  },
  {
   "cell_type": "code",
   "execution_count": null,
   "metadata": {},
   "outputs": [],
   "source": [
    "#replace name column to COMTR_NUM\n",
    "name_data = comment_data_org['name']\n",
    "name_check = commenter_data_org['COMTR_NAME']\n",
    "name_replace = commenter_data_org['COMTR_NUM']\n",
    "name_counter = 0\n",
    "name_data_change = []\n",
    "for i in name_data:\n",
    "    for j in range(len(name_check)):\n",
    "        if i == name_check[j]:\n",
    "            name_data_change.append(name_replace[j])\n",
    "            break\n",
    "    name_counter = name_counter + 1   "
   ]
  },
  {
   "cell_type": "code",
   "execution_count": null,
   "metadata": {},
   "outputs": [],
   "source": [
    "comment_data_org.drop(['name'],axis=1,inplace=True)\n",
    "comment_data_org"
   ]
  },
  {
   "cell_type": "code",
   "execution_count": null,
   "metadata": {},
   "outputs": [],
   "source": [
    "#name_data_change\n",
    "comment_data_org.insert(3, 'COMTR_NUM', name_data_change)\n",
    "comment_data_org"
   ]
  },
  {
   "cell_type": "code",
   "execution_count": null,
   "metadata": {},
   "outputs": [],
   "source": [
    "def create_date_time():\n",
    "    val = ''\n",
    "    yy = random.randint(2012, 2019) \n",
    "    mm = random.randint(1, 12) \n",
    "    dd = random.randint(1, 31) \n",
    "    mmn = ''\n",
    "    if mm < 10:\n",
    "        mmn = '0' + str(mm)\n",
    "    else:\n",
    "        mmn = str(mm)\n",
    "    \n",
    "    if mm == 2:\n",
    "        if dd > 28:\n",
    "            dd = 28\n",
    "    elif mm == 4:\n",
    "        if dd > 30:\n",
    "            dd = 30\n",
    "    elif mm == 6:\n",
    "        if dd > 30:\n",
    "            dd = 30\n",
    "    elif mm == 9:\n",
    "        if dd > 29:\n",
    "            dd = 29\n",
    "    elif mm == 11:\n",
    "        if dd > 30:\n",
    "            dd = 30 \n",
    "    elif mm == 12:\n",
    "        if dd > 29:\n",
    "            dd = 29  \n",
    "            \n",
    "    ddn = ''        \n",
    "    if dd < 10:\n",
    "        ddn = '0' + str(dd)\n",
    "    else:\n",
    "        ddn = str(dd) \n",
    "    \n",
    "    hh = random.randint(0, 23)\n",
    "    \n",
    "    hhn = ''        \n",
    "    if hh < 10:\n",
    "        hhn = '0' + str(hh)\n",
    "    else:\n",
    "        hhn = str(hh) \n",
    "    \n",
    "    \n",
    "    mut = random.randint(0, 59)\n",
    "    \n",
    "    mutn = ''        \n",
    "    if mut < 10:\n",
    "        mutn = '0' + str(mut)\n",
    "    else:\n",
    "        mutn = str(mut) \n",
    "    \n",
    "    ss = random.randint(0, 59)\n",
    "    \n",
    "    ssn = ''        \n",
    "    if ss < 10:\n",
    "        ssn = '0' + str(ss)\n",
    "    else:\n",
    "        ssn = str(ss) \n",
    "    \n",
    "    val = str(yy) + '/' + mmn + '/' + ddn + ' ' + hhn + ':' + mutn + ':' + ssn\n",
    "    \n",
    "    return val"
   ]
  },
  {
   "cell_type": "code",
   "execution_count": null,
   "metadata": {},
   "outputs": [],
   "source": [
    "#creates COM_DATE  format ex:2019/10/06 17:32:07\n",
    "\n",
    "date_time_data = []\n",
    "for i in range(len(comment_data_org)):\n",
    "    date_time_data.append(create_date_time())\n",
    "date_time_data\n",
    "\n",
    "#fill date_time_data into comment_data_org\n",
    "comment_data_org.insert(1, 'COM_DATE_TIME',  date_time_data)\n",
    "comment_data_org"
   ]
  },
  {
   "cell_type": "code",
   "execution_count": null,
   "metadata": {},
   "outputs": [],
   "source": [
    "comment_data_org.rename(columns={'comment_star':'COM_STAR'}, inplace=True)\n",
    "#comment_data_org.rename(columns={'level':'COM_LEVEL'}, inplace=True)\n",
    "comment_data_org.rename(columns={'comment':'COM_MSG'}, inplace=True)\n",
    "comment_data_org"
   ]
  },
  {
   "cell_type": "code",
   "execution_count": null,
   "metadata": {},
   "outputs": [],
   "source": [
    "#COMMENT_LINE: creats COM_LINE column\n",
    "#com_line_data = comment_data_org.copy()\n",
    "com_line_data = pd.read_csv(\"data_done/for_com_line_add_comment.csv\")\n",
    "check_comtr_num = com_line_data['COMTR_NUM']\n",
    "check_comtr_rst = com_line_data['RST_NUM']\n",
    "com_line_data"
   ]
  },
  {
   "cell_type": "code",
   "execution_count": null,
   "metadata": {},
   "outputs": [],
   "source": [
    "add_line = []\n",
    "line_counter = 1\n",
    "rst_before = ''\n",
    "rst_now = ''\n",
    "for i in range(len(check_comtr_num)):\n",
    "    rst_now = check_comtr_rst[i]\n",
    "    if rst_now == rst_before:\n",
    "        line_counter = line_counter + 1\n",
    "    else:\n",
    "        line_counter = 1\n",
    "    rst_before = rst_now\n",
    "    \n",
    "    add_line.append(line_counter)    "
   ]
  },
  {
   "cell_type": "code",
   "execution_count": null,
   "metadata": {},
   "outputs": [],
   "source": [
    "#add_line"
   ]
  },
  {
   "cell_type": "code",
   "execution_count": null,
   "metadata": {},
   "outputs": [],
   "source": [
    "# add add_line into comment_data_org\n",
    "com_line_data.insert(1, 'COM_LINE', add_line)\n",
    "com_line_data = pd.DataFrame(com_line_data)\n",
    "com_line_data.to_csv(\"data_done/comment_line.csv\", index=False)\n",
    "com_line_data"
   ]
  },
  {
   "cell_type": "code",
   "execution_count": null,
   "metadata": {},
   "outputs": [],
   "source": [
    "#below method shouldn't use because somme restaurant hasn't any comment\n",
    "# def deal_with_restaurant_series_num(num):\n",
    "#     RSN = 'RSN_0'\n",
    "#     length = len(str(num))\n",
    "#     if length == 1:\n",
    "#         RSN = RSN + '0000' + str(num)\n",
    "#     elif length == 2:\n",
    "#         RSN = RSN + '000' + str(num)\n",
    "#     elif length == 3:\n",
    "#         RSN = RSN + '00' + str(num) \n",
    "#     elif length == 4:\n",
    "#         RSN = RSN + '0' + str(num)  \n",
    "#     elif length == 5:\n",
    "#         RSN = RSN + str(num)        \n",
    "#     #print(RSN)\n",
    "#     return RSN"
   ]
  },
  {
   "cell_type": "code",
   "execution_count": null,
   "metadata": {},
   "outputs": [],
   "source": [
    "# rst_data = comment_data_org['restaurant']\n",
    "# rst_data_change = []\n",
    "# now_val = ''\n",
    "# before_val = rst_data[0]\n",
    "# rst_counter = 0\n",
    "# cc = 0\n",
    "# temp = ''\n",
    "# for i in rst_data:\n",
    "#     now_val = i\n",
    "#     cc = cc + 1\n",
    "#     #if before_val != now_val:\n",
    "#     if before_val.find(now_val) == -1:\n",
    "#         rst_counter = rst_counter + 1\n",
    "#     temp = deal_with_restaurant_series_num(rst_counter)\n",
    "#     rst_data_change.append(temp)\n",
    "#     before_val = now_val\n",
    "# print(cc)\n",
    "# TYPE = pd.DataFrame(rst_data_change)\n",
    "# TYPE.to_csv(\"ttt1.csv\", index=False)"
   ]
  }
 ],
 "metadata": {
  "kernelspec": {
   "display_name": "Python 3",
   "language": "python",
   "name": "python3"
  },
  "language_info": {
   "codemirror_mode": {
    "name": "ipython",
    "version": 3
   },
   "file_extension": ".py",
   "mimetype": "text/x-python",
   "name": "python",
   "nbconvert_exporter": "python",
   "pygments_lexer": "ipython3",
   "version": "3.7.4"
  }
 },
 "nbformat": 4,
 "nbformat_minor": 4
}

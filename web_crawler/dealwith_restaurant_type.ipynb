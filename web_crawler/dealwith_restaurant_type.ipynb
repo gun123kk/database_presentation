{
 "cells": [
  {
   "cell_type": "code",
   "execution_count": null,
   "metadata": {},
   "outputs": [],
   "source": [
    "import pandas as pd\n",
    "import pandas_profiling"
   ]
  },
  {
   "cell_type": "code",
   "execution_count": null,
   "metadata": {},
   "outputs": [],
   "source": [
    "restaurant_data_org = pd.read_csv(\"raw_data/restaurant.csv\")\n",
    "main_data = restaurant_data_org.copy()\n",
    "main_data.drop(['type'],axis=1,inplace=True)\n",
    "main_data.drop(['comment_num'],axis=1,inplace=True)"
   ]
  },
  {
   "cell_type": "code",
   "execution_count": null,
   "metadata": {},
   "outputs": [],
   "source": [
    "main_data"
   ]
  },
  {
   "cell_type": "code",
   "execution_count": null,
   "metadata": {},
   "outputs": [],
   "source": [
    "#test\n",
    "ad= \"台北市中正區三條街1路\"\n",
    "#print(ad[3:6])\n",
    "x = ad.find('小胖區')\n",
    "print(x)"
   ]
  },
  {
   "cell_type": "code",
   "execution_count": null,
   "metadata": {},
   "outputs": [],
   "source": [
    "def modify_data_address(input_val):\n",
    "    #print(input_val)\n",
    "    address_temp = []\n",
    "    for i in input_val:\n",
    "        i = i[6:]\n",
    "        #print(i)\n",
    "        address_temp.append(i)\n",
    "    #print(address_temp)\n",
    "    return address_temp"
   ]
  },
  {
   "cell_type": "code",
   "execution_count": null,
   "metadata": {},
   "outputs": [],
   "source": [
    "area_check = ['中正區', '大同區', '中山區', '松山區', '大安區', '萬華區', '信義區', '士林區', '北投區', '內湖區', '南港區', '文山區']"
   ]
  },
  {
   "cell_type": "code",
   "execution_count": null,
   "metadata": {},
   "outputs": [],
   "source": [
    "#find raw data's address there's column has no 'XX區'\n",
    "#and modify by yourself\n",
    "modify_address_data = restaurant_data_org['address']\n",
    "check_all = 0\n",
    "area_foramt_wrong = 0\n",
    "counter = 0 \n",
    "address_modify = []\n",
    "for i in modify_address_data:\n",
    "    counter = counter + 1\n",
    "    area_foramt_wrong = 0\n",
    "    for j in range(len(area_check)):\n",
    "        if i.find(area_check[j]) == 3:\n",
    "            area_foramt_wrong = 0\n",
    "            break;\n",
    "        else:\n",
    "            area_foramt_wrong = 1\n",
    "    if area_foramt_wrong == 1:\n",
    "        check_all = 1\n",
    "        print(i);\n",
    "\n",
    "print(\"all data number is : \"+ str(counter))\n",
    "if check_all:\n",
    "    print(\"need to modify address by yourself\")\n",
    "else:\n",
    "    print(\"all data's address are correct\")\n",
    "    address_modify = modify_data_address(modify_address_data)\n",
    "    #df = pd.DataFrame(address_modify, columns = ['address']) \n",
    "    #print(address_modify)\n",
    "    main_data.drop(['address'],axis=1,inplace=True)\n",
    "    main_data.insert(4, 'RST_ADDRESS',  address_modify)"
   ]
  },
  {
   "cell_type": "code",
   "execution_count": null,
   "metadata": {},
   "outputs": [],
   "source": [
    "main_data.rename(columns={'restaurant_series_num':'RST_NUM'}, inplace=True)\n",
    "main_data.rename(columns={'name':'RST_NAME'}, inplace=True)\n",
    "main_data.rename(columns={'star':'RST_STAR'}, inplace=True)\n",
    "main_data.rename(columns={'phone':'RST_PHONE'}, inplace=True)\n",
    "main_data.rename(columns={'avg_price':'RST_AVG_PRICE'}, inplace=True)\n",
    "main_data"
   ]
  },
  {
   "cell_type": "code",
   "execution_count": null,
   "metadata": {},
   "outputs": [],
   "source": [
    "#main data remove taipei and area \n",
    "#deal with address ,creates new cloumn(area num) \n",
    "#totally count restaurant number in every area ,save to another csv file\n",
    "dl_address_data = restaurant_data_org['address']\n",
    "print(len(dl_address_data))"
   ]
  },
  {
   "cell_type": "code",
   "execution_count": null,
   "metadata": {},
   "outputs": [],
   "source": [
    "area_ret_count = [0,0,0,0,0,0,0,0,0,0,0,0]\n",
    "get_address_num_cloumn = []\n",
    "address_temp = ''\n",
    "for i in dl_address_data:\n",
    "    address_temp = i\n",
    "    address_temp = address_temp[3:6]\n",
    "    #print(address_temp)\n",
    "    for j in range(12):\n",
    "        if address_temp == area_check[j]:\n",
    "            if j > 9:\n",
    "                get_address_num_cloumn.append('AREA_' + str(j))\n",
    "            elif j <= 9:\n",
    "                get_address_num_cloumn.append('AREA_' + '0' + str(j))\n",
    "            area_ret_count[j] = area_ret_count[j] + 1\n",
    "            break\n",
    "#print(get_address_num_cloumn)              \n",
    "print(area_ret_count)\n",
    "all_rst_num = 0\n",
    "for i in area_ret_count:\n",
    "    all_rst_num = all_rst_num + i\n",
    "print(all_rst_num)"
   ]
  },
  {
   "cell_type": "code",
   "execution_count": null,
   "metadata": {},
   "outputs": [],
   "source": [
    "#restaurant data add FK (AREA_NUM)\n",
    "#save restaurant.csv\n",
    "main_data.insert(4 , 'area',  get_address_num_cloumn)\n",
    "main_data.to_csv(\"data_done/restaurant.csv\", index=False)"
   ]
  },
  {
   "cell_type": "code",
   "execution_count": null,
   "metadata": {},
   "outputs": [],
   "source": [
    "#check restaurant name has duplicate or not in the data\n",
    "check_name_data = restaurant_data_org['name']\n",
    "rst_name = set(check_name_data)\n",
    "rst_name_num = len(rst_name)\n",
    "#print(rst_name)\n",
    "print('rst_nam_num:' + str(rst_name_num))\n",
    "print('all_rst_num:'+ str(all_rst_num))\n",
    "if rst_name_num != all_rst_num:\n",
    "    print(\"restaurant name has duplicate data in the data\");"
   ]
  },
  {
   "cell_type": "code",
   "execution_count": null,
   "metadata": {},
   "outputs": [],
   "source": [
    "#combind area.csv\n",
    "combind_area = []\n",
    "area_num = []\n",
    "for i in range(len(area_check)):\n",
    "    if i > 9:\n",
    "        area_num.append('AREA_' + str(i))\n",
    "    else:\n",
    "        area_num.append('AREA_0' + str(i))       \n",
    "\n",
    "for j in range(len(area_check)):\n",
    "    combind_area_temp = {}\n",
    "    combind_area_temp['AREA_NUM'] = area_num[j]\n",
    "    combind_area_temp['AREA_NAME'] = area_check[j]\n",
    "    combind_area_temp['AREM_RST_NUM'] = area_ret_count[j]\n",
    "    combind_area.append(combind_area_temp)\n",
    "#print(combind_area)\n",
    "\n",
    "sub_area = pd.DataFrame(combind_area)\n",
    "sub_area.to_csv(\"data_done/area.csv\", index=False)"
   ]
  },
  {
   "cell_type": "code",
   "execution_count": null,
   "metadata": {},
   "outputs": [],
   "source": [
    "sub_area"
   ]
  },
  {
   "cell_type": "code",
   "execution_count": null,
   "metadata": {},
   "outputs": [],
   "source": [
    "for_type_data_NUM = restaurant_data_org['restaurant_series_num']\n",
    "for_type_data_TYPE = restaurant_data_org['type']\n",
    "type_check = ['火鍋', '日本料理', '日式料理', '中式料理', '義式料理', '美式料理', '小吃' , '咖啡', '甜點', '下午茶',\n",
    "         '飲料', '港式料理','港式飲茶' , '韓國料理', '韓式料理' , '泰國料理' ,'泰式料理', '酒館', '酒吧' ,'合菜', '燒烤', '約會餐廳',\n",
    "        '冰品', '速食', '素食', '咖哩', '拉麵', '牛排' ,'宵夜','晚餐', '中餐', '午餐', '早點' ,'早餐','早午餐']"
   ]
  },
  {
   "cell_type": "code",
   "execution_count": null,
   "metadata": {},
   "outputs": [],
   "source": [
    "for_type_data_TYPE"
   ]
  },
  {
   "cell_type": "code",
   "execution_count": null,
   "metadata": {},
   "outputs": [],
   "source": [
    "for_type_data_NUM"
   ]
  },
  {
   "cell_type": "code",
   "execution_count": null,
   "metadata": {},
   "outputs": [],
   "source": [
    "def modify_type_format(val):\n",
    "    if val == '日式料理':\n",
    "        val = '日本料理'\n",
    "    elif val == '韓國料理':\n",
    "        val = '日式料理'\n",
    "    elif val == '泰國料理':\n",
    "        val = '泰式料理'\n",
    "    elif val == '酒吧':\n",
    "        val = '酒館'\n",
    "    elif val == '早點':\n",
    "        val = '早餐'\n",
    "    elif val == '中餐':\n",
    "        val = '午餐'\n",
    "    return val"
   ]
  },
  {
   "cell_type": "code",
   "execution_count": null,
   "metadata": {},
   "outputs": [],
   "source": [
    "get_type_num = 3\n",
    "get_type_all = []\n",
    "type_counter = 0\n",
    "get_type_temp = {}\n",
    "type_num = 0\n",
    "for i in for_type_data_NUM:\n",
    "    type_counter = 0\n",
    "    type_val = for_type_data_TYPE[type_num] \n",
    "    #print(type_val)\n",
    "    for j in range(len(type_check)):\n",
    "        if type_val.find(type_check[j]) != -1:\n",
    "            get_type_temp = {}\n",
    "            get_type_temp['RST_NUM'] = i \n",
    "            temp_val = modify_type_format(type_check[j])\n",
    "            get_type_temp['TYPE_NAME'] = temp_val\n",
    "            #print(get_type_temp)\n",
    "            get_type_all.append(get_type_temp)\n",
    "            type_counter = type_counter + 1\n",
    "            if type_counter == 3:\n",
    "                break\n",
    "    if type_counter == 0:\n",
    "        get_type_temp['RST_NUM'] = i \n",
    "        get_type_temp['TYPE_NAME'] = '小吃'\n",
    "        get_type_all.append(get_type_temp)\n",
    "    type_num = type_num + 1\n",
    "#print(get_type_all)        "
   ]
  },
  {
   "cell_type": "code",
   "execution_count": null,
   "metadata": {},
   "outputs": [],
   "source": [
    "TYPE = pd.DataFrame(get_type_all)\n",
    "TYPE.to_csv(\"data_done/type.csv\", index=False)"
   ]
  }
 ],
 "metadata": {
  "kernelspec": {
   "display_name": "Python 3",
   "language": "python",
   "name": "python3"
  },
  "language_info": {
   "codemirror_mode": {
    "name": "ipython",
    "version": 3
   },
   "file_extension": ".py",
   "mimetype": "text/x-python",
   "name": "python",
   "nbconvert_exporter": "python",
   "pygments_lexer": "ipython3",
   "version": "3.7.4"
  }
 },
 "nbformat": 4,
 "nbformat_minor": 4
}

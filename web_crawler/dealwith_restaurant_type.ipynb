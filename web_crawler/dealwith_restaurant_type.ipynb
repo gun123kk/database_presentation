{
 "cells": [
  {
   "cell_type": "code",
   "execution_count": null,
   "metadata": {},
   "outputs": [],
   "source": [
    "import pandas as pd\n",
    "import pandas_profiling\n",
    "import random"
   ]
  },
  {
   "cell_type": "code",
   "execution_count": null,
   "metadata": {},
   "outputs": [],
   "source": [
    "restaurant_data_org = pd.read_csv(\"raw_data/restaurant.csv\")\n",
    "main_data = restaurant_data_org.copy()\n",
    "main_data.drop(['type'],axis=1,inplace=True)\n",
    "main_data.drop(['comment_num'],axis=1,inplace=True)"
   ]
  },
  {
   "cell_type": "code",
   "execution_count": null,
   "metadata": {},
   "outputs": [],
   "source": [
    "main_data"
   ]
  },
  {
   "cell_type": "code",
   "execution_count": null,
   "metadata": {},
   "outputs": [],
   "source": [
    "#test\n",
    "ad= \"台北市中正區三條街1路\"\n",
    "#print(ad[3:6])\n",
    "x = ad.find('小胖區')\n",
    "print(x)"
   ]
  },
  {
   "cell_type": "code",
   "execution_count": null,
   "metadata": {},
   "outputs": [],
   "source": [
    "def modify_data_address(input_val):\n",
    "    #print(input_val)\n",
    "    address_temp = []\n",
    "    for i in input_val:\n",
    "        i = i[6:]\n",
    "        #print(i)\n",
    "        address_temp.append(i)\n",
    "    #print(address_temp)\n",
    "    return address_temp"
   ]
  },
  {
   "cell_type": "code",
   "execution_count": null,
   "metadata": {},
   "outputs": [],
   "source": [
    "area_check = ['中正區', '大同區', '中山區', '松山區', '大安區', '萬華區', '信義區', '士林區', '北投區', '內湖區', '南港區', '文山區']"
   ]
  },
  {
   "cell_type": "code",
   "execution_count": null,
   "metadata": {},
   "outputs": [],
   "source": [
    "#find raw data's address there's column has no 'XX區'\n",
    "#and modify by yourself\n",
    "modify_address_data = restaurant_data_org['address']\n",
    "check_all = 0\n",
    "area_foramt_wrong = 0\n",
    "counter = 0 \n",
    "address_modify = []\n",
    "for i in modify_address_data:\n",
    "    counter = counter + 1\n",
    "    area_foramt_wrong = 0\n",
    "    for j in range(len(area_check)):\n",
    "        if i.find(area_check[j]) == 3:\n",
    "            area_foramt_wrong = 0\n",
    "            break;\n",
    "        else:\n",
    "            area_foramt_wrong = 1\n",
    "    if area_foramt_wrong == 1:\n",
    "        check_all = 1\n",
    "        print(i);\n",
    "\n",
    "print(\"all data number is : \"+ str(counter))\n",
    "if check_all:\n",
    "    print(\"need to modify address by yourself\")\n",
    "else:\n",
    "    print(\"all data's address are correct\")\n",
    "    address_modify = modify_data_address(modify_address_data)\n",
    "    #df = pd.DataFrame(address_modify, columns = ['address']) \n",
    "    #print(address_modify)\n",
    "    main_data.drop(['address'],axis=1,inplace=True)\n",
    "    main_data.insert(4, 'RST_ADDRESS',  address_modify)"
   ]
  },
  {
   "cell_type": "code",
   "execution_count": null,
   "metadata": {},
   "outputs": [],
   "source": [
    "main_data.rename(columns={'restaurant_series_num':'RST_NUM'}, inplace=True)\n",
    "main_data.rename(columns={'name':'RST_NAME'}, inplace=True)\n",
    "main_data.rename(columns={'star':'RST_STAR'}, inplace=True)\n",
    "main_data.rename(columns={'phone':'RST_PHONE'}, inplace=True)\n",
    "main_data.rename(columns={'avg_price':'RST_AVG_PRICE'}, inplace=True)\n",
    "main_data"
   ]
  },
  {
   "cell_type": "code",
   "execution_count": null,
   "metadata": {},
   "outputs": [],
   "source": [
    "#main data remove taipei and area \n",
    "#deal with address ,creates new cloumn(area num) \n",
    "#totally count restaurant number in every area ,save to another csv file\n",
    "dl_address_data = restaurant_data_org['address']\n",
    "print(len(dl_address_data))"
   ]
  },
  {
   "cell_type": "code",
   "execution_count": null,
   "metadata": {},
   "outputs": [],
   "source": [
    "area_ret_count = [0,0,0,0,0,0,0,0,0,0,0,0]\n",
    "get_address_num_cloumn = []\n",
    "address_temp = ''\n",
    "for i in dl_address_data:\n",
    "    address_temp = i\n",
    "    address_temp = address_temp[3:6]\n",
    "    #print(address_temp)\n",
    "    for j in range(12):\n",
    "        if address_temp == area_check[j]:\n",
    "            if j > 9:\n",
    "                get_address_num_cloumn.append('AREA_' + str(j))\n",
    "            elif j <= 9:\n",
    "                get_address_num_cloumn.append('AREA_' + '0' + str(j))\n",
    "            area_ret_count[j] = area_ret_count[j] + 1\n",
    "            break\n",
    "#print(get_address_num_cloumn)              \n",
    "print(area_ret_count)\n",
    "all_rst_num = 0\n",
    "for i in area_ret_count:\n",
    "    all_rst_num = all_rst_num + i\n",
    "print(all_rst_num)"
   ]
  },
  {
   "cell_type": "code",
   "execution_count": null,
   "metadata": {},
   "outputs": [],
   "source": [
    "#restaurant data add FK (AREA_NUM)\n",
    "#save restaurant.csv\n",
    "main_data.insert(4 , 'area',  get_address_num_cloumn)\n",
    "main_data.to_csv(\"data_done/restaurant.csv\", index=False)"
   ]
  },
  {
   "cell_type": "code",
   "execution_count": null,
   "metadata": {},
   "outputs": [],
   "source": [
    "#check restaurant name has duplicate or not in the data\n",
    "check_name_data = restaurant_data_org['name']\n",
    "rst_name = set(check_name_data)\n",
    "rst_name_num = len(rst_name)\n",
    "#print(rst_name)\n",
    "print('rst_nam_num:' + str(rst_name_num))\n",
    "print('all_rst_num:'+ str(all_rst_num))\n",
    "if rst_name_num != all_rst_num:\n",
    "    print(\"restaurant name has duplicate data in the data\");"
   ]
  },
  {
   "cell_type": "code",
   "execution_count": null,
   "metadata": {},
   "outputs": [],
   "source": [
    "#combind area.csv\n",
    "combind_area = []\n",
    "area_num = []\n",
    "for i in range(len(area_check)):\n",
    "    if i > 9:\n",
    "        area_num.append('AREA_' + str(i))\n",
    "    else:\n",
    "        area_num.append('AREA_0' + str(i))       \n",
    "\n",
    "for j in range(len(area_check)):\n",
    "    combind_area_temp = {}\n",
    "    combind_area_temp['AREA_NUM'] = area_num[j]\n",
    "    combind_area_temp['AREA_NAME'] = area_check[j]\n",
    "    combind_area_temp['AREM_RST_NUM'] = area_ret_count[j]\n",
    "    combind_area.append(combind_area_temp)\n",
    "#print(combind_area)\n",
    "\n",
    "sub_area = pd.DataFrame(combind_area)\n",
    "sub_area.to_csv(\"data_done/area.csv\", index=False)"
   ]
  },
  {
   "cell_type": "code",
   "execution_count": null,
   "metadata": {},
   "outputs": [],
   "source": [
    "sub_area"
   ]
  },
  {
   "cell_type": "code",
   "execution_count": null,
   "metadata": {},
   "outputs": [],
   "source": [
    "for_type_data_NUM = restaurant_data_org['restaurant_series_num']\n",
    "for_type_data_TYPE = restaurant_data_org['type']\n",
    "\n",
    "type_check = ['火鍋','日本','日式','壽司','中華','中餐','中式','義大利','義式','美式',\n",
    "              '小吃','咖啡','甜點','點心','下午茶','飲料','港式','韓國','韓式','泰國',\n",
    "              '泰式','越南','越式','酒館/酒吧','合菜','燒烤','約會餐廳','冰品','速食',\n",
    "              '素食','咖哩','拉麵','牛排','西餐','披薩','印度','南洋']\n",
    "\n",
    "type_list = ['日本料理','中式料理','義式料理','美式料理','港式料理','韓式料理',\n",
    "             '印度料理','南洋料理','泰式料理','越式料理','約會餐廳','酒館/酒吧','下午茶',\n",
    "             '火鍋','小吃','咖啡','甜點','點心','飲料','合菜','燒烤',\n",
    "             '冰品','速食','素食','咖哩','拉麵','牛排','西餐','披薩']      "
   ]
  },
  {
   "cell_type": "code",
   "execution_count": null,
   "metadata": {},
   "outputs": [],
   "source": [
    "#make type.csv\n",
    "#TYPE_NUM TYPE_NAME\n",
    "type_row_all=[]\n",
    "type_row={}\n",
    "for i in range(len(type_list)):\n",
    "    type_row = {}\n",
    "    if i < 10:\n",
    "        type_row['TYPE_NUM'] = 'TY_00' + str(i)\n",
    "    else:\n",
    "        type_row['TYPE_NUM'] = 'TY_0' + str(i)\n",
    "        \n",
    "    type_row['TYPE_NAME'] = type_list[i]\n",
    "    type_row_all.append(type_row)"
   ]
  },
  {
   "cell_type": "code",
   "execution_count": null,
   "metadata": {},
   "outputs": [],
   "source": [
    "type_row_all"
   ]
  },
  {
   "cell_type": "code",
   "execution_count": null,
   "metadata": {},
   "outputs": [],
   "source": [
    "TYPE = pd.DataFrame(type_row_all)\n",
    "TYPE.to_csv(\"data_done/type.csv\", index=False)"
   ]
  },
  {
   "cell_type": "code",
   "execution_count": null,
   "metadata": {},
   "outputs": [],
   "source": [
    "for_type_data_TYPE"
   ]
  },
  {
   "cell_type": "code",
   "execution_count": null,
   "metadata": {},
   "outputs": [],
   "source": [
    "for_type_data_NUM"
   ]
  },
  {
   "cell_type": "code",
   "execution_count": null,
   "metadata": {},
   "outputs": [],
   "source": [
    "def modify_type_format(val):\n",
    "    if val.find('日本') != -1:\n",
    "        val = '日本料理'\n",
    "    elif val.find('日式') != -1:\n",
    "        val = '日本料理'\n",
    "    elif val.find('壽司') != -1:\n",
    "        val = '日本料理'    \n",
    "    elif val.find('中華') != -1:\n",
    "        val = '中式料理'\n",
    "    elif val.find('中餐') != -1:\n",
    "        val = '中式料理'\n",
    "    elif val.find('中式') != -1:\n",
    "        val = '中式料理'   \n",
    "    elif val.find('義大利') != -1:\n",
    "        val = '義式料理'   \n",
    "    elif val.find('義式') != -1:\n",
    "        val = '義式料理'  \n",
    "    elif val.find('美式') != -1:\n",
    "        val = '美式料理'\n",
    "    elif val.find('港式') != -1:\n",
    "        val = '港式料理'\n",
    "    elif val.find('韓國') != -1:\n",
    "        val = '韓式料理'   \n",
    "    elif val.find('韓式') != -1:\n",
    "        val = '韓式料理' \n",
    "    elif val.find('泰國') != -1:\n",
    "        val = '泰式料理'   \n",
    "    elif val.find('泰式') != -1:\n",
    "        val = '泰式料理 '\n",
    "    elif val.find('越南') != -1:\n",
    "        val = '越式料理'   \n",
    "    elif val.find('越式') != -1:\n",
    "        val = '越式料理' \n",
    "    elif val.find('印度') != -1:\n",
    "        val = '印度料理'   \n",
    "    elif val.find('南洋') != -1:\n",
    "        val = '南洋料理'    \n",
    "    return val"
   ]
  },
  {
   "cell_type": "code",
   "execution_count": null,
   "metadata": {},
   "outputs": [],
   "source": [
    "def check_type_belong(type_in):\n",
    "    #print(type_in)\n",
    "    val = ''\n",
    "    type_num = 0\n",
    "    for i in range(len(type_list)):\n",
    "        if type_in==type_list[i]:\n",
    "            type_num = i\n",
    "            break\n",
    "            \n",
    "    if type_num < 10:\n",
    "        val = 'TY_00' + str(type_num)\n",
    "    else:\n",
    "        val = 'TY_0' + str(type_num)\n",
    "    #print(val)    \n",
    "    return val"
   ]
  },
  {
   "cell_type": "code",
   "execution_count": null,
   "metadata": {},
   "outputs": [],
   "source": [
    "def get_rst_num_quantity_in_comment():\n",
    "    restaurant_data = pd.read_csv(\"data_done/comment_line.csv\")\n",
    "    rst_num = restaurant_data['RST_NUM']\n",
    "    rst_num_qun = {}\n",
    "    rst_num_qun_all = []\n",
    "    before_num = ''\n",
    "    now_num = ''\n",
    "    num_counter = 1\n",
    "    #print(len(rst_num))\n",
    "    change_item = 0\n",
    "    for i in range(len(rst_num)):\n",
    "        now_num = rst_num[i]\n",
    "        #print(now_num)\n",
    "        if now_num == before_num:\n",
    "            num_counter +=1\n",
    "        else:\n",
    "            if before_num != '':\n",
    "                change_item = 1\n",
    "        \n",
    "        if change_item == 1:\n",
    "            rst_num_qun[before_num] = num_counter\n",
    "            rst_num_qun_all.append(rst_num_qun)\n",
    "            num_counter = 1\n",
    "            rst_num_qun = {}\n",
    "            change_item = 0\n",
    "       \n",
    "        before_num = now_num\n",
    "    #last\n",
    "    rst_num_qun[before_num] = num_counter\n",
    "    rst_num_qun_all.append(rst_num_qun)\n",
    "    return rst_num_qun_all"
   ]
  },
  {
   "cell_type": "code",
   "execution_count": null,
   "metadata": {},
   "outputs": [],
   "source": [
    "#print(get_rst_num_quantity())\n",
    "tt = get_rst_num_quantity_in_comment()\n",
    "print(len(tt))\n",
    "#print(tt[0].get('RSN_000000'))\n",
    "#tt"
   ]
  },
  {
   "cell_type": "code",
   "execution_count": null,
   "metadata": {},
   "outputs": [],
   "source": [
    "get_type_num = 3\n",
    "get_type_all = []\n",
    "type_counter = 0\n",
    "get_type_temp = {}\n",
    "type_index = 0\n",
    "rst_num_qun_in_offer = {}\n",
    "rst_num_qun_in_offer_all = []\n",
    "rst_num_qun_in_offer_counter = 0\n",
    "for i in range(len(for_type_data_NUM)):\n",
    "    type_counter = 0\n",
    "    type_val = for_type_data_TYPE[type_index] \n",
    "    #print(for_type_data_NUM[i] + ' :' + type_val)\n",
    "   \n",
    "    for j in range(len(type_check)):\n",
    "        \n",
    "        if type_val.find(type_check[j]) != -1:\n",
    "            get_type_temp = {}\n",
    "            \n",
    "            get_type_temp['RST_NUM'] = for_type_data_NUM[i]\n",
    "            temp_val = modify_type_format(type_check[j])\n",
    "            #print(type_check[j] + '->'+ temp_val)\n",
    "            get_type_temp['TYPE_NUM'] = check_type_belong(temp_val)\n",
    "            #print(get_type_temp)\n",
    "            get_type_all.append(get_type_temp)\n",
    "            type_counter = type_counter + 1\n",
    "            rst_num_qun_in_offer_counter = type_counter\n",
    "            if type_counter == 3:\n",
    "                break\n",
    "                \n",
    "    if type_counter == 0:\n",
    "        #set'小吃'\n",
    "        get_type_temp = {}\n",
    "        get_type_temp['RST_NUM'] = for_type_data_NUM[i] \n",
    "        get_type_temp['TYPE_NUM'] = 'TY_013' \n",
    "        #print('小吃')\n",
    "        rst_num_qun_in_offer_counter = 1\n",
    "        get_type_all.append(get_type_temp)       \n",
    "    \n",
    "    rst_num_qun_in_offer[for_type_data_NUM[i]] = rst_num_qun_in_offer_counter \n",
    "    rst_num_qun_in_offer_all.append(rst_num_qun_in_offer)\n",
    "    rst_num_qun_in_offer = {}\n",
    "    type_index = type_index + 1\n",
    "    #print(\"=======\")\n",
    "#print(get_type_all)        "
   ]
  },
  {
   "cell_type": "code",
   "execution_count": null,
   "metadata": {},
   "outputs": [],
   "source": [
    "TYPE = pd.DataFrame(get_type_all)\n",
    "TYPE.to_csv(\"data_done/offers_temp.csv\", index=False)"
   ]
  },
  {
   "cell_type": "code",
   "execution_count": null,
   "metadata": {},
   "outputs": [],
   "source": [
    "#rst_num_qun_in_offer_all"
   ]
  },
  {
   "cell_type": "code",
   "execution_count": null,
   "metadata": {},
   "outputs": [],
   "source": [
    "#find restaurant without comment and save them\n",
    "all_rst_items = pd.read_csv(\"data_done/restaurant.csv\")\n",
    "all_comment_rst_items = pd.read_csv(\"data_done/comment_line.csv\")\n",
    "#print(len(all_rst_items))\n",
    "#print(len(all_comment_rst_items))\n",
    "save_rst_no_comment = []\n",
    "save_rst_no_comment_val = []\n",
    "rst_row = all_rst_items['RST_NUM']\n",
    "rst_cmt_row = all_comment_rst_items['RST_NUM']\n",
    "is_find = 0\n",
    "temp = {}\n",
    "# print(rst_row[0])\n",
    "# print(rst_cmt_row[0])\n",
    "for i in range(len(rst_row)):\n",
    "    temp = {}\n",
    "    is_find = 0\n",
    "    j = i\n",
    "    for j in range(len(rst_cmt_row)):\n",
    "        if rst_row[i] == rst_cmt_row[j]:\n",
    "            #print(rst_row[i])\n",
    "            is_find = 1\n",
    "            break\n",
    "    if is_find == 0:\n",
    "        temp[rst_row[i]] = 0\n",
    "        save_rst_no_comment.append(temp)\n",
    "        save_rst_no_comment_val.append(i)\n",
    "        #print('no_comment:' + rst_row[i])   \n",
    "save_rst_no_comment"
   ]
  },
  {
   "cell_type": "code",
   "execution_count": null,
   "metadata": {},
   "outputs": [],
   "source": [
    "#save_rst_no_comment_val for combind sequence of get_rst_comment_qun and save_rst_no_comment\n",
    "print(save_rst_no_comment_val)"
   ]
  },
  {
   "cell_type": "code",
   "execution_count": null,
   "metadata": {},
   "outputs": [],
   "source": [
    "#combind  get_rst_comment_qun and save_rst_no_comment\n",
    "get_rst_comment_qun = get_rst_num_quantity_in_comment() \n",
    "print(len(get_rst_comment_qun))\n",
    "for i in range(len(save_rst_no_comment)):\n",
    "    get_rst_comment_qun.insert(save_rst_no_comment_val[i], save_rst_no_comment[i])\n",
    "print(len(get_rst_comment_qun))\n",
    "#get_rst_comment_qun    "
   ]
  },
  {
   "cell_type": "code",
   "execution_count": null,
   "metadata": {},
   "outputs": [],
   "source": [
    "#save FOS_TYPE_VAL column\n",
    "ofs_type_val = []"
   ]
  },
  {
   "cell_type": "code",
   "execution_count": null,
   "metadata": {},
   "outputs": [],
   "source": [
    "def get_random_val(intput_all, input_div):\n",
    "#ex: 15 隨機分成3個數字 總和要15\n",
    "    x = intput_all\n",
    "    y_sum = 0\n",
    "    temp = 0\n",
    "    for i in range(input_div):\n",
    "        if i < (input_div-1):\n",
    "            temp = random.randint(0,(x-y_sum))\n",
    "        else:\n",
    "            temp = x-y_sum\n",
    "\n",
    "        ofs_type_val.append(temp)\n",
    "        y_sum = y_sum + temp\n"
   ]
  },
  {
   "cell_type": "code",
   "execution_count": null,
   "metadata": {},
   "outputs": [],
   "source": [
    "all_rst_items = pd.read_csv(\"data_done/restaurant.csv\")\n",
    "rst_row = all_rst_items['RST_NUM']\n",
    "# offers_type_val = []\n",
    "#print(len(rst_row))\n",
    "for i in range(len(rst_row)):\n",
    "    num = get_rst_comment_qun[i].get(rst_row[i])\n",
    "#     print(str(i) + \"-----------------\")\n",
    "#     print(rst_row[i])\n",
    "#     print(num)\n",
    "#     print(rst_num_qun_in_offer_all[i].get(rst_row[i]))\n",
    "    get_random_val(num, rst_num_qun_in_offer_all[i].get(rst_row[i]))\n"
   ]
  },
  {
   "cell_type": "code",
   "execution_count": null,
   "metadata": {},
   "outputs": [],
   "source": [
    "#ofs_type_val"
   ]
  },
  {
   "cell_type": "code",
   "execution_count": null,
   "metadata": {},
   "outputs": [],
   "source": [
    "offers = pd.read_csv(\"data_done/offers_temp.csv\")\n",
    "offers.insert(2, 'OFS_TYPE_VAL',  ofs_type_val)\n",
    "offers"
   ]
  },
  {
   "cell_type": "code",
   "execution_count": null,
   "metadata": {},
   "outputs": [],
   "source": [
    "TYPE = pd.DataFrame(offers)\n",
    "TYPE.to_csv(\"data_done/offers.csv\", index=False)"
   ]
  }
 ],
 "metadata": {
  "kernelspec": {
   "display_name": "Python 3",
   "language": "python",
   "name": "python3"
  },
  "language_info": {
   "codemirror_mode": {
    "name": "ipython",
    "version": 3
   },
   "file_extension": ".py",
   "mimetype": "text/x-python",
   "name": "python",
   "nbconvert_exporter": "python",
   "pygments_lexer": "ipython3",
   "version": "3.7.4"
  }
 },
 "nbformat": 4,
 "nbformat_minor": 4
}

{
 "cells": [
  {
   "cell_type": "code",
   "execution_count": null,
   "metadata": {},
   "outputs": [],
   "source": [
    "#測試抓愛食記網站\n",
    "import requests\n",
    "from bs4 import BeautifulSoup\n",
    "from datetime import date,datetime\n",
    "import re\n",
    "import time\n",
    "from selenium import webdriver\n",
    "from selenium.webdriver.chrome.options import Options\n",
    "import csv\n",
    "import pandas as pd\n",
    "import json"
   ]
  },
  {
   "cell_type": "code",
   "execution_count": null,
   "metadata": {},
   "outputs": [],
   "source": [
    "def get_comment(url):\n",
    "    browser = webdriver.Chrome(executable_path='/usr/bin/chromedriver')\n",
    "    browser.get(url)\n",
    "    browser.implicitly_wait(1)\n",
    "    time.sleep(1)\n",
    "    \n",
    "    soup = BeautifulSoup(browser.page_source, 'html.parser')\n",
    "    while len(soup.select('.user-checkin > .content > .btn-more-checkin-wrapper')) > 0:\n",
    "        browser.find_element_by_xpath(\"//button[@class='jss76 jss50 jss52 jss55 btn-more-checkin']\").click()\n",
    "        time.sleep(1)\n",
    "        soup = BeautifulSoup(browser.page_source, 'html.parser')\n",
    "     \n",
    "    comment_all = []\n",
    "    comment_member = {}\n",
    "    for i in range(len(soup.select('.checkin-list-outer > .comment-block-outer'))):   \n",
    "        #comment_member[i] = soup.select('.checkin-list-outer > .comment-block-outer')[i].text\n",
    "        #comment_all.append(comment_member[i])\n",
    "        #soup.select('.checkin-list-outer > .comment-block-outer')[i].text\n",
    "        c = soup.select('.checkin-list-outer > .comment-block-outer > .comment-block > .comment-content-outer')[i].text\n",
    "        print(c)\n",
    "        #print(c[0].text)\n",
    "        #print(c[1].text)\n",
    "        #print(c[2].text)\n",
    "        #print(c[3].text)\n",
    "    #print(comment_member)\n",
    "        \n",
    "        \n",
    "    time.sleep(5)\n",
    "    browser.close() \n",
    "    #return "
   ]
  },
  {
   "cell_type": "code",
   "execution_count": null,
   "metadata": {},
   "outputs": [],
   "source": [
    "def pageDetail(detail_url, resturant_series_num):\n",
    "    #print(\"url:\")\n",
    "    #print( detail_url)\n",
    "    save_data = {}\n",
    "    res = requests.get(detail_url)\n",
    "    soup =  BeautifulSoup(res.text)\n",
    "    \n",
    "    #test tool\n",
    "    #tag = input(\"請輸入定位元素，class前面加上.，id前面加上# \")  \n",
    "    #for drink in soup.select('{}'.format(tag)):\n",
    "        #print(drink.get_text())\n",
    "    save_data['resturant_series_num'] = resturant_series_num\n",
    "    \n",
    "    name =  soup.select('.title-outer > .title')[0].text\n",
    "    #print(name)\n",
    "    save_data['name'] = name\n",
    "    #print(save_data)\n",
    "    \n",
    "    star = soup.select('.jsx-1207467136')[0].text\n",
    "    #print(star)\n",
    "    save_data['star'] = star\n",
    "    #print(save_data)\n",
    "    \n",
    "    comment_num = soup.select('.count')[0].text\n",
    "    comment_num = int(comment_num[:-3])\n",
    "    #print(comment_num)\n",
    "    save_data['comment_num'] = comment_num\n",
    "    #print(save_data) \n",
    "    \n",
    "    data = soup.select('.info-outer > .info > div > span')\n",
    "    address = data[1].text\n",
    "    #print(address)\n",
    "    save_data['address'] = address\n",
    "    #print(save_data)\n",
    "    \n",
    "    phone = data[3].text\n",
    "    #print(phone)\n",
    "    save_data['phone'] = phone\n",
    "    #print(save_data)\n",
    "    \n",
    "    avg_price_check = data[4].text\n",
    "    #print(avg_price0)\n",
    "    if avg_price_check == \"均消價位|\":\n",
    "        avg_price = data[5].text\n",
    "        avg_price = avg_price[3:]\n",
    "    else:\n",
    "        avg_price = 0\n",
    "    #print(avg_price)\n",
    "    save_data['avg_price'] = avg_price\n",
    "    #print(save_data)\n",
    "    \n",
    "    \n",
    "    #get_comment(detail_url)\n",
    "\n",
    "    print(save_data)\n",
    "    print('-------------------------')\n",
    "    return save_data\n",
    "    \n",
    "    "
   ]
  },
  {
   "cell_type": "code",
   "execution_count": null,
   "metadata": {},
   "outputs": [],
   "source": [
    "def deal_with_resturant_series_num(num):\n",
    "    RSN = 'RSN_0'\n",
    "    length = len(str(num))\n",
    "    if length == 1:\n",
    "        RSN = RSN + '0000' + str(num)\n",
    "    elif length == 2:\n",
    "        RSN = RSN + '000' + str(num)\n",
    "    elif length == 3:\n",
    "        RSN = RSN + '00' + str(num) \n",
    "    elif length == 4:\n",
    "        RSN = RSN + '0' + str(num)  \n",
    "    elif length == 5:\n",
    "        RSN = RSN + str(num)      \n",
    "    #print(RSN)\n",
    "    return RSN"
   ]
  },
  {
   "cell_type": "code",
   "execution_count": null,
   "metadata": {},
   "outputs": [],
   "source": [
    "test_RSN = deal_with_resturant_series_num(657)\n",
    "print(test_RSN)"
   ]
  },
  {
   "cell_type": "code",
   "execution_count": null,
   "metadata": {},
   "outputs": [],
   "source": [
    "domain = 'https://ifoodie.tw'\n",
    "resturant_ary = []\n",
    "counter = 0\n",
    "resturant_series_num_counter = 0\n",
    "for page in range(1,2):\n",
    "    resturant_url = 'https://ifoodie.tw/explore/%E5%8F%B0%E5%8C%97%E5%B8%82/list?page={}'\n",
    "    section = requests.get(resturant_url.format(page))\n",
    "    soup = BeautifulSoup(section.text)\n",
    "    counter = 0\n",
    "    \n",
    "    resturant_series_num = deal_with_resturant_series_num(resturant_series_num_counter)\n",
    "    \n",
    "    resturant_data = {}\n",
    "    resturant_type = {}\n",
    "    for resturant in soup.select('.restaurant-info'):      \n",
    "        catergory = soup.select('.category-row')[counter].text\n",
    "        catergory = catergory[4:]\n",
    "        #print(catergory)\n",
    "        if catergory != '':\n",
    "            resturant_type['type'] = catergory\n",
    "        else:\n",
    "            resturant_type['type'] = '未定義'\n",
    "            \n",
    "        #print(resturant_type)\n",
    "        dic = {}\n",
    "        dic['link'] = domain + resturant.select('a')[0]['href']\n",
    "        resturant_data = pageDetail(dic['link'] , resturant_series_num)\n",
    "        resturant_data.update(resturant_type)\n",
    "        resturant_ary.append(resturant_data)\n",
    "        counter = counter + 1\n",
    "        resturant_series_num_counter = resturant_series_num_counter + 1"
   ]
  },
  {
   "cell_type": "code",
   "execution_count": null,
   "metadata": {},
   "outputs": [],
   "source": [
    "for j in resturant_ary:\n",
    "    print(j)\n",
    "    print('------------------------------------------------------------------------------------------------------------------------------------------------------------')"
   ]
  },
  {
   "cell_type": "code",
   "execution_count": null,
   "metadata": {},
   "outputs": [],
   "source": [
    "sub = pd.DataFrame(resturant_ary1)"
   ]
  },
  {
   "cell_type": "code",
   "execution_count": null,
   "metadata": {},
   "outputs": [],
   "source": [
    "sub"
   ]
  },
  {
   "cell_type": "code",
   "execution_count": null,
   "metadata": {},
   "outputs": [],
   "source": [
    "sub.to_csv(\"test.csv\", index=False)"
   ]
  },
  {
   "cell_type": "code",
   "execution_count": null,
   "metadata": {},
   "outputs": [],
   "source": [
    "sub.to_json(r'test.json')"
   ]
  }
 ],
 "metadata": {
  "kernelspec": {
   "display_name": "Python 3",
   "language": "python",
   "name": "python3"
  },
  "language_info": {
   "codemirror_mode": {
    "name": "ipython",
    "version": 3
   },
   "file_extension": ".py",
   "mimetype": "text/x-python",
   "name": "python",
   "nbconvert_exporter": "python",
   "pygments_lexer": "ipython3",
   "version": "3.7.4"
  }
 },
 "nbformat": 4,
 "nbformat_minor": 4
}
